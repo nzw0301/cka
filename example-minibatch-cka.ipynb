{
 "cells": [
  {
   "cell_type": "code",
   "execution_count": 1,
   "id": "be652ef9",
   "metadata": {},
   "outputs": [],
   "source": [
    "import torch\n",
    "from torchvision.datasets import CIFAR10\n",
    "import torch.nn as nn\n",
    "import torch.nn.functional as F\n",
    "import torch.optim as optim\n",
    "import torchvision.transforms as transforms\n",
    "from torch.utils.data import DataLoader\n",
    "import torchvision\n",
    "import numpy as np\n",
    "import seaborn as sns\n",
    "import matplotlib.pyplot as plt\n",
    "\n",
    "from cka import IncrementalCKA"
   ]
  },
  {
   "cell_type": "markdown",
   "id": "4c6108c0-0eed-4582-82d8-6b34edf61061",
   "metadata": {},
   "source": [
    "The data and model definitions are based on the pytorch's tutorial: https://pytorch.org/tutorials/beginner/blitz/cifar10_tutorial.html"
   ]
  },
  {
   "cell_type": "code",
   "execution_count": 2,
   "id": "c1fc08df",
   "metadata": {},
   "outputs": [
    {
     "name": "stdout",
     "output_type": "stream",
     "text": [
      "Files already downloaded and verified\n",
      "Files already downloaded and verified\n"
     ]
    }
   ],
   "source": [
    "transform = transforms.Compose(\n",
    "    [transforms.ToTensor(),\n",
    "     transforms.Normalize((0.5, 0.5, 0.5), (0.5, 0.5, 0.5))])\n",
    "\n",
    "# increase batch size from 4\n",
    "batch_size = 128\n",
    "\n",
    "trainset = torchvision.datasets.CIFAR10(root='./data', train=True,\n",
    "                                        download=True, transform=transform)\n",
    "trainloader = torch.utils.data.DataLoader(trainset, batch_size=batch_size,\n",
    "                                          shuffle=True, num_workers=2)\n",
    "\n",
    "testset = torchvision.datasets.CIFAR10(root='./data', train=False,\n",
    "                                       download=True, transform=transform)\n",
    "\n",
    "testloader = torch.utils.data.DataLoader(testset, batch_size=batch_size,\n",
    "                                         shuffle=True, num_workers=2)"
   ]
  },
  {
   "cell_type": "code",
   "execution_count": 3,
   "id": "e256cd8f",
   "metadata": {},
   "outputs": [],
   "source": [
    "class Net(nn.Module):\n",
    "    def __init__(self):\n",
    "        super().__init__()\n",
    "        self.conv1 = nn.Conv2d(3, 6, 5)\n",
    "        self.pool = nn.MaxPool2d(2, 2)\n",
    "        self.conv2 = nn.Conv2d(6, 16, 5)\n",
    "        self.fc1 = nn.Linear(16 * 5 * 5, 120)\n",
    "        self.fc2 = nn.Linear(120, 84)\n",
    "        self.fc3 = nn.Linear(84, 10)\n",
    "\n",
    "    def forward(self, x):\n",
    "        x = self.pool(F.relu(self.conv1(x)))\n",
    "        x = self.pool(F.relu(self.conv2(x)))\n",
    "        x = torch.flatten(x, 1) # flatten all dimensions except batch\n",
    "        x = F.relu(self.fc1(x))\n",
    "        x = F.relu(self.fc2(x))\n",
    "        x = self.fc3(x)\n",
    "        return x\n",
    "\n",
    "\n",
    "net = Net()"
   ]
  },
  {
   "cell_type": "code",
   "execution_count": 4,
   "id": "70d5daa9-51d4-46eb-8462-5e67c418b217",
   "metadata": {},
   "outputs": [],
   "source": [
    "criterion = nn.CrossEntropyLoss()\n",
    "optimizer = optim.SGD(net.parameters(), lr=0.01, momentum=0.9)"
   ]
  },
  {
   "cell_type": "markdown",
   "id": "10a7441f-9482-4bae-a442-17a8a077dd28",
   "metadata": {},
   "source": [
    "## Training"
   ]
  },
  {
   "cell_type": "code",
   "execution_count": 5,
   "id": "99eefcf5-7e28-4e88-8925-11266d873e2f",
   "metadata": {},
   "outputs": [
    {
     "name": "stdout",
     "output_type": "stream",
     "text": [
      "[1,   100] loss: 2.297\n",
      "[1,   200] loss: 2.159\n",
      "[1,   300] loss: 1.919\n",
      "[2,   100] loss: 1.662\n",
      "[2,   200] loss: 1.586\n",
      "[2,   300] loss: 1.522\n",
      "Finished Training\n"
     ]
    }
   ],
   "source": [
    "for epoch in range(2):  # loop over the dataset multiple times\n",
    "\n",
    "    running_loss = 0.0\n",
    "    for i, data in enumerate(trainloader, 0):\n",
    "        # get the inputs; data is a list of [inputs, labels]\n",
    "        inputs, labels = data\n",
    "\n",
    "        # zero the parameter gradients\n",
    "        optimizer.zero_grad()\n",
    "\n",
    "        # forward + backward + optimize\n",
    "        outputs = net(inputs)\n",
    "        loss = criterion(outputs, labels)\n",
    "        loss.backward()\n",
    "        optimizer.step()\n",
    "\n",
    "        # print statistics\n",
    "        running_loss += loss.item()\n",
    "        if i % 100 == 99:    # print every 100 mini-batches\n",
    "            print('[%d, %5d] loss: %.3f' %\n",
    "                  (epoch + 1, i + 1, running_loss / 100))\n",
    "            running_loss = 0.0\n",
    "\n",
    "print('Finished Training')"
   ]
  },
  {
   "cell_type": "markdown",
   "id": "06af5000-3472-405b-87aa-f5cd13862f1f",
   "metadata": {},
   "source": [
    "## Testing"
   ]
  },
  {
   "cell_type": "code",
   "execution_count": 6,
   "id": "02e91fa0-3536-4305-9fe3-853bf01cc969",
   "metadata": {},
   "outputs": [
    {
     "name": "stdout",
     "output_type": "stream",
     "text": [
      "Accuracy of the network on the 10000 test images: 45 %\n"
     ]
    }
   ],
   "source": [
    "correct = 0\n",
    "total = 0\n",
    "# since we're not training, we don't need to calculate the gradients for our outputs\n",
    "with torch.no_grad():\n",
    "    for data in testloader:\n",
    "        images, labels = data\n",
    "        # calculate outputs by running images through the network\n",
    "        outputs = net(images)\n",
    "        # the class with the highest energy is what we choose as prediction\n",
    "        _, predicted = torch.max(outputs.data, 1)\n",
    "        total += labels.size(0)\n",
    "        correct += (predicted == labels).sum().item()\n",
    "\n",
    "print('Accuracy of the network on the 10000 test images: %d %%' % (\n",
    "    100 * correct / total))\n"
   ]
  },
  {
   "cell_type": "markdown",
   "id": "be450dcc-41d6-4a4e-962c-3e3f4f0a549a",
   "metadata": {},
   "source": [
    "## Calculate mini-batched CKA between intermediate representations in the trained network step by step"
   ]
  },
  {
   "cell_type": "markdown",
   "id": "062d6e60-ad69-471b-972c-89e92f3a83c0",
   "metadata": {},
   "source": [
    "Suppose we have two matrices:\n",
    "1. `X`: intermediate representations in $ \\mathbb{R}^{n \\times p_1}$,\n",
    "2. `Y`: intermediate representations in $ \\mathbb{R}^{n \\times p_2}$,\n",
    "\n",
    "where $n$ is the number of samples in a mini-batch, and $p_1$ and $p_2$ are the dimesionality of feature representations.\n",
    "\n",
    "To calculate cka score for a pair of intermediate representations, we call `IncrementalCKA.increment_cka_score` with the following arguments. \n",
    "\n",
    "1. `X`\n",
    "1. `Y`\n",
    "1. the index of layer to compute `X` in $[0, \\ldots, \\texttt{num_representations}]$\n",
    "1. the index of layer to compute `Y` in $[0, \\ldots, \\texttt{num_representations}]$"
   ]
  },
  {
   "cell_type": "markdown",
   "id": "18454acd-404e-4a5d-b101-202d9d2e9e85",
   "metadata": {},
   "source": [
    "Recall that we are going to calculate similarity between representations in the following model:\n",
    "\n",
    "```python\n",
    "class Net(nn.Module):\n",
    "    def __init__(self):\n",
    "        super().__init__()\n",
    "        self.conv1 = nn.Conv2d(3, 6, 5)\n",
    "        self.pool = nn.MaxPool2d(2, 2)\n",
    "        self.conv2 = nn.Conv2d(6, 16, 5)\n",
    "        self.fc1 = nn.Linear(16 * 5 * 5, 120)\n",
    "        self.fc2 = nn.Linear(120, 84)\n",
    "        self.fc3 = nn.Linear(84, 10)\n",
    "\n",
    "    def forward(self, x):\n",
    "        x = self.pool(F.relu(self.conv1(x)))\n",
    "        x = self.pool(F.relu(self.conv2(x)))\n",
    "        x = torch.flatten(x, 1) # flatten all dimensions except batch\n",
    "        x = F.relu(self.fc1(x))\n",
    "        x = F.relu(self.fc2(x))\n",
    "        x = self.fc3(x)\n",
    "        return x\n",
    "\n",
    "```\n",
    "\n",
    "Concretely, we use the following representations:\n",
    "\n",
    "- after every conv2d\n",
    "- after every linear 2d\n"
   ]
  },
  {
   "cell_type": "markdown",
   "id": "6d588739-cc42-4efa-a9b5-629b417b9a7b",
   "metadata": {},
   "source": [
    "`IncrementalCKA` computes cka value given a pair of two intermediate representations,\n",
    "so we need to specify the number of representations (or mightbe the number of intermediate layers) for initialisation."
   ]
  },
  {
   "cell_type": "code",
   "execution_count": 7,
   "id": "836184c0-ec42-4f82-8f8b-f86233ed40a9",
   "metadata": {},
   "outputs": [
    {
     "name": "stdout",
     "output_type": "stream",
     "text": [
      "num representations: 5\n"
     ]
    }
   ],
   "source": [
    "num_representations = 5\n",
    "print(\"num representations:\", num_representations)\n",
    "\n",
    "incremental_cka = IncrementalCKA(num_representations, num_representations)"
   ]
  },
  {
   "cell_type": "markdown",
   "id": "7bd66ad5-b081-4cd3-9221-26a1a1204d90",
   "metadata": {},
   "source": [
    "To get intermediate value, this notebook uses [`register_module_forward_hook`](https://pytorch.org/docs/stable/generated/torch.nn.modules.module.register_module_forward_hook.html):\n",
    "\n"
   ]
  },
  {
   "cell_type": "code",
   "execution_count": 8,
   "id": "a37e5286-131e-486c-bee2-88e67b54ef8c",
   "metadata": {},
   "outputs": [],
   "source": [
    "def tensor_to_flatten_numpy(tensor):\n",
    "    \n",
    "    return tensor.flatten(start_dim=1).numpy()\n",
    "\n",
    "def get_intermediate(module, input, outputs):\n",
    "    global intermediates\n",
    "    intermediates.append(tensor_to_flatten_numpy(outputs))\n",
    "    "
   ]
  },
  {
   "cell_type": "code",
   "execution_count": 9,
   "id": "c1e3a38a-d3c7-4723-9164-63bad3f59509",
   "metadata": {},
   "outputs": [
    {
     "data": {
      "text/plain": [
       "<torch.utils.hooks.RemovableHandle at 0x7fef59b6be80>"
      ]
     },
     "execution_count": 9,
     "metadata": {},
     "output_type": "execute_result"
    }
   ],
   "source": [
    "net.conv1.register_forward_hook(get_intermediate)\n",
    "net.conv2.register_forward_hook(get_intermediate)\n",
    "net.fc1.register_forward_hook(get_intermediate)\n",
    "net.fc2.register_forward_hook(get_intermediate)\n",
    "net.fc3.register_forward_hook(get_intermediate)\n"
   ]
  },
  {
   "cell_type": "markdown",
   "id": "7ba76f95-d307-4062-be2d-e844dc9ef90f",
   "metadata": {},
   "source": [
    "By calling forward pass with the hook above, `intermediates` stores each intermediate representation."
   ]
  },
  {
   "cell_type": "markdown",
   "id": "db935f15-1368-4075-bc9f-136b6b7f9348",
   "metadata": {},
   "source": [
    "Due to the randomness of mini-batch, we evalualte the whole test loop $10$ times"
   ]
  },
  {
   "cell_type": "code",
   "execution_count": 10,
   "id": "3c5e25a7-95a3-4ae0-9822-08e5d0b26008",
   "metadata": {},
   "outputs": [],
   "source": [
    "\n",
    "num_iters = 10\n",
    "with torch.no_grad():\n",
    "    for _ in range(num_iters):\n",
    "\n",
    "\n",
    "        for data in testloader:\n",
    "            \n",
    "            intermediates = [] # reset intermediate values\n",
    "            \n",
    "            images, _ = data\n",
    "            net(images)  # call forward pass and stores intermediate values\n",
    "            \n",
    "            # calculate cka for all pairs of representations\n",
    "            for index_x, X in enumerate(intermediates):\n",
    "                for index_y, Y in enumerate(intermediates):\n",
    "                    incremental_cka.increment_cka_score(index_x, index_y, X, Y\n",
    "                    )\n"
   ]
  },
  {
   "cell_type": "markdown",
   "id": "1ab112ab-273a-4e29-9e03-f76c98d06813",
   "metadata": {},
   "source": [
    "## visualisation\n",
    "\n",
    "To access the cka values, we just call `cka` method. `cka` returns a 2d ndarray whose elemet is cka value between two intermediate representations. To unify the appearence with the original cka paper, we need to reverse the ordering of column and its lables as follows:"
   ]
  },
  {
   "cell_type": "code",
   "execution_count": 11,
   "id": "08dde5b0-a083-409a-bb8d-9497e1f9824e",
   "metadata": {},
   "outputs": [
    {
     "data": {
      "image/png": "[encoded data removed]",
      "text/plain": [
       "<Figure size 432x288 with 2 Axes>"
      ]
     },
     "metadata": {
      "needs_background": "light"
     },
     "output_type": "display_data"
    }
   ],
   "source": [
    "sns.heatmap(incremental_cka.cka()[::-1], yticklabels=range(num_representations-1, -1, -1));"
   ]
  },
  {
   "cell_type": "code",
   "execution_count": null,
   "id": "ecca1c6e-0100-4fb9-902c-ee8959641776",
   "metadata": {},
   "outputs": [],
   "source": []
  }
 ],
 "metadata": {
  "kernelspec": {
   "display_name": "Python 3 (ipykernel)",
   "language": "python",
   "name": "python3"
  },
  "language_info": {
   "codemirror_mode": {
    "name": "ipython",
    "version": 3
   },
   "file_extension": ".py",
   "mimetype": "text/x-python",
   "name": "python",
   "nbconvert_exporter": "python",
   "pygments_lexer": "ipython3",
   "version": "3.9.7"
  }
 },
 "nbformat": 4,
 "nbformat_minor": 5
}
